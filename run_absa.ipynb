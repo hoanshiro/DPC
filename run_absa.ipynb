{
 "cells": [
  {
   "cell_type": "code",
   "execution_count": 1,
   "id": "0f548aa8-6611-4afc-a25b-8d3d4aad1a72",
   "metadata": {
    "tags": []
   },
   "outputs": [
    {
     "name": "stdout",
     "output_type": "stream",
     "text": [
      "/home/henry/Project/Distibuted\n"
     ]
    }
   ],
   "source": [
    "!pwd"
   ]
  },
  {
   "cell_type": "code",
   "execution_count": 2,
   "id": "fd137a6c-947e-46fd-bb5e-bb65164165cd",
   "metadata": {
    "tags": []
   },
   "outputs": [],
   "source": [
    "from absa.dataset.processor import Processor, load_data"
   ]
  },
  {
   "cell_type": "code",
   "execution_count": 3,
   "id": "3236c089-5cb4-4039-9add-fe0217afb1b1",
   "metadata": {
    "tags": []
   },
   "outputs": [],
   "source": [
    "from absa.config.config import Config"
   ]
  },
  {
   "cell_type": "code",
   "execution_count": 9,
   "id": "45645e21-0278-4b5c-a769-796e2cb2764e",
   "metadata": {
    "tags": []
   },
   "outputs": [
    {
     "name": "stdout",
     "output_type": "stream",
     "text": [
      "absa/config/config.yaml ei\n"
     ]
    }
   ],
   "source": [
    "config = Config()\n",
    "config.load_config()\n",
    "config = config.cfg"
   ]
  },
  {
   "cell_type": "code",
   "execution_count": 10,
   "id": "eacaf2de-e7bb-489a-9b57-a65801cf5c2c",
   "metadata": {
    "tags": []
   },
   "outputs": [
    {
     "name": "stdout",
     "output_type": "stream",
     "text": [
      "data_path: Path not exist absa/data/train.jsonl\n"
     ]
    }
   ],
   "source": [
    "processor = Processor(config)\n",
    "processor.load_tokenizer()\n",
    "processor.load_embedding_model()\n",
    "data_path = config[\"dataset\"][\"path\"][\"train\"]\n",
    "raw_data = load_data(processor, data_path)"
   ]
  },
  {
   "cell_type": "code",
   "execution_count": null,
   "id": "c374bd2d-3f16-4a64-9d75-4c58afbed0c3",
   "metadata": {
    "tags": []
   },
   "outputs": [],
   "source": [
    "print(raw_data[0])"
   ]
  },
  {
   "cell_type": "code",
   "execution_count": null,
   "id": "2187ae6e-874b-4d86-b3b5-7b9f455f07ed",
   "metadata": {},
   "outputs": [],
   "source": []
  }
 ],
 "metadata": {
  "kernelspec": {
   "display_name": "Python 3 (ipykernel)",
   "language": "python",
   "name": "python3"
  },
  "language_info": {
   "codemirror_mode": {
    "name": "ipython",
    "version": 3
   },
   "file_extension": ".py",
   "mimetype": "text/x-python",
   "name": "python",
   "nbconvert_exporter": "python",
   "pygments_lexer": "ipython3",
   "version": "3.7.15"
  }
 },
 "nbformat": 4,
 "nbformat_minor": 5
}
